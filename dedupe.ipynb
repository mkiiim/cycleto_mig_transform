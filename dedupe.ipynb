{
 "cells": [
  {
   "cell_type": "code",
   "execution_count": 1,
   "id": "53e8ee29",
   "metadata": {},
   "outputs": [],
   "source": [
    "import pandas as pd\n",
    "from pathlib import Path\n",
    "\n",
    "# file_withDupes - filename of original file \n",
    "# file_withoutDupes - filename of file with (blanks and) duplicates removed\n",
    "# file_blankRecords - filename of file with records where dedupeField is blank\n",
    "# file_dupeRecords - filename of file with records where dedupefield is not blank and is a duplicate of an existing\n",
    "# df_withDupes - data frame of original file\n",
    "# df_withoutDupes - data frame with duplicates removed\n",
    "# df_dupeRecordsMask - data frame of boolean mask indicating which rows are duplicate \n",
    "# df_dupeRecords - data frame of records identified as the duplicates\n"
   ]
  },
  {
   "cell_type": "code",
   "execution_count": 2,
   "id": "3279974e",
   "metadata": {},
   "outputs": [
    {
     "name": "stdout",
     "output_type": "stream",
     "text": [
      "\n",
      "Enter filename\n",
      "ME_Contacts_NameAndEmail (1).csv\n",
      "\n",
      "Enter name of column to check for duplicates\n",
      "Primary Email\n",
      "\n",
      "Enter record to keep. Valid values are 'first' or 'last'\n",
      "first\n",
      "ME_Contacts_NameAndEmail (1)_deduped_onPrimaryEmail_keepFirst.csv\n",
      "ME_Contacts_NameAndEmail (1)_deduped_onPrimaryEmail_keepFirst_blankRecords.csv\n",
      "ME_Contacts_NameAndEmail (1)_deduped_onPrimaryEmail_keepFirst_dupeRecords.csv\n"
     ]
    }
   ],
   "source": [
    "# set values here\n",
    "\n",
    "# get the name of the original file\n",
    "file_withDupes = Path(input(f\"\\nEnter filename\\n\"))\n",
    "\n",
    "# get the name of the column to check for duplicates\n",
    "dedupeField = input(f\"\\nEnter name of column to check for duplicates\\n\")\n",
    "\n",
    "# get whether to keep first or last record as the master\n",
    "keepRecord = input(f\"\\nEnter record to keep. Valid values are 'first' or 'last'\\n\")\n",
    "\n",
    "# file without dupes will be named [file_withDupes]_deduped_on[DupeField]_keep[keepRecord].csv\n",
    "file_withoutDupes = file_withDupes.stem + '_deduped_on' + dedupeField.title().replace(\" \", \"\") + '_keep' + keepRecord.capitalize() + '.csv'\n",
    "\n",
    "# file of records with blank dedupeField will be named [file_withDupes]_deduped_on[DupeField]_keep[keepRecord]_blankRecords.csv\n",
    "file_blankRecords = file_withDupes.stem + '_deduped_on' + dedupeField.title().replace(\" \", \"\") + '_keep' + keepRecord.capitalize() + '_blankRecords' + '.csv'\n",
    "\n",
    "# file of duplicate records will be named [file_withDupes]_deduped_on[DupeField]_keep[keepRecord]_dupeRecords.csv\n",
    "file_dupeRecords = file_withDupes.stem + '_deduped_on' + dedupeField.title().replace(\" \", \"\") + '_keep' + keepRecord.capitalize() + '_dupeRecords' + '.csv'\n",
    "\n",
    "print(file_withoutDupes)\n",
    "print(file_blankRecords)\n",
    "print(file_dupeRecords)\n"
   ]
  },
  {
   "cell_type": "code",
   "execution_count": 3,
   "id": "25eb7358",
   "metadata": {
    "scrolled": true
   },
   "outputs": [
    {
     "name": "stdout",
     "output_type": "stream",
     "text": [
      "       Contact ID     Display Name First Name Middle Name  Last Name  \\\n",
      "0           15001    Sally Sparrow      Sally         NaN    Sparrow   \n",
      "1           15002  Christina Caleb  Christina         NaN      Caleb   \n",
      "2           15003     Duane Currie      Duane         NaN     Currie   \n",
      "3           15004   Andrzej Inglot    Andrzej         NaN     Inglot   \n",
      "4           15005   Rita Wuebbeler       Rita         NaN  Wuebbeler   \n",
      "...           ...              ...        ...         ...        ...   \n",
      "11370       29996       Victoria G   Victoria         NaN          G   \n",
      "11371       29997         Noriko S     Noriko         NaN          S   \n",
      "11372       29998    Chrissy Brown    Chrissy         NaN      Brown   \n",
      "11373       29999    Chrissy Brown    Chrissy         NaN      Brown   \n",
      "11374       30000      Justin Rose     Justin         NaN       Rose   \n",
      "\n",
      "       Legal Name          Primary Email          Billing Email  \n",
      "0             NaN  sallysparrow@yahoo.ca  sallysparrow@yahoo.ca  \n",
      "1             NaN    tinacaleb@gmail.com    tinacaleb@gmail.com  \n",
      "2             NaN  currieduane@gmail.com  currieduane@gmail.com  \n",
      "3             NaN      atolgni@gmail.com      atolgni@gmail.com  \n",
      "4             NaN   rwuebbeler@gmail.com   rwuebbeler@gmail.com  \n",
      "...           ...                    ...                    ...  \n",
      "11370         NaN                    NaN                    NaN  \n",
      "11371         NaN                    NaN                    NaN  \n",
      "11372         NaN                    NaN                    NaN  \n",
      "11373         NaN                    NaN                    NaN  \n",
      "11374         NaN                    NaN                    NaN  \n",
      "\n",
      "[11375 rows x 8 columns]\n"
     ]
    }
   ],
   "source": [
    "# read the original file into a dataframe df_withDupes\n",
    "df_withDupes = pd.read_csv(file_withDupes)\n",
    "print(df_withDupes)"
   ]
  },
  {
   "cell_type": "code",
   "execution_count": 4,
   "id": "8f3c90d2",
   "metadata": {},
   "outputs": [
    {
     "name": "stdout",
     "output_type": "stream",
     "text": [
      "       Contact ID     Display Name First Name Middle Name  Last Name  \\\n",
      "0           15001    Sally Sparrow      Sally         NaN    Sparrow   \n",
      "1           15002  Christina Caleb  Christina         NaN      Caleb   \n",
      "2           15003     Duane Currie      Duane         NaN     Currie   \n",
      "3           15004   Andrzej Inglot    Andrzej         NaN     Inglot   \n",
      "4           15005   Rita Wuebbeler       Rita         NaN  Wuebbeler   \n",
      "...           ...              ...        ...         ...        ...   \n",
      "11332       29957   Ronny Restrepo      Ronny         NaN   Restrepo   \n",
      "11333       29958  Richard Michael    Richard         NaN    Michael   \n",
      "11334       29960       Luke Evans       Luke         NaN      Evans   \n",
      "11338       29964    Jesse Coleman      Jesse         NaN    Coleman   \n",
      "11362       29988    Anne  Sheperd      Anne          NaN    Sheperd   \n",
      "\n",
      "       Legal Name               Primary Email          Billing Email  \n",
      "0             NaN       sallysparrow@yahoo.ca  sallysparrow@yahoo.ca  \n",
      "1             NaN         tinacaleb@gmail.com    tinacaleb@gmail.com  \n",
      "2             NaN       currieduane@gmail.com  currieduane@gmail.com  \n",
      "3             NaN           atolgni@gmail.com      atolgni@gmail.com  \n",
      "4             NaN        rwuebbeler@gmail.com   rwuebbeler@gmail.com  \n",
      "...           ...                         ...                    ...  \n",
      "11332         NaN             ronnyrpo@me.com                    NaN  \n",
      "11333         NaN   rmichael@edgeofthenet.org                    NaN  \n",
      "11334         NaN       luke.evans@rpacan.com  luke.evans@rpacan.com  \n",
      "11338         NaN   jesse.coleman@utoronto.ca                    NaN  \n",
      "11362         NaN  marleysheperd@sympatico.ca                    NaN  \n",
      "\n",
      "[10531 rows x 8 columns]\n"
     ]
    }
   ],
   "source": [
    "# create a dataframe with records where dedupeField is not blank/NaN since these will all be considered \"duplicates\"\n",
    "df_withoutBlanks = df_withDupes.dropna(subset=[dedupeField])\n",
    "print(df_withoutBlanks)"
   ]
  },
  {
   "cell_type": "code",
   "execution_count": 5,
   "id": "f8d8517c",
   "metadata": {},
   "outputs": [
    {
     "name": "stdout",
     "output_type": "stream",
     "text": [
      "0        False\n",
      "1        False\n",
      "2        False\n",
      "3        False\n",
      "4        False\n",
      "         ...  \n",
      "11370     True\n",
      "11371     True\n",
      "11372     True\n",
      "11373     True\n",
      "11374     True\n",
      "Name: Primary Email, Length: 11375, dtype: bool\n"
     ]
    }
   ],
   "source": [
    "#create a boolean mask indicating which records have a blank dedupeField\n",
    "df_blankDedupeFieldRecordsMask = df_withDupes[dedupeField].isna()\n",
    "print(df_blankDedupeFieldRecordsMask)"
   ]
  },
  {
   "cell_type": "code",
   "execution_count": 6,
   "id": "3112fb93",
   "metadata": {},
   "outputs": [
    {
     "name": "stdout",
     "output_type": "stream",
     "text": [
      "       Contact ID        Display Name First Name Middle Name   Last Name  \\\n",
      "35          15043       Ingrid Hansen     Ingrid         NaN      Hansen   \n",
      "630         15750       Beverley Drew   Beverley         NaN        Drew   \n",
      "795         16098        Liz MacInnis        Liz         NaN   MacInnis    \n",
      "920         16287  Barbara Lindenberg    Barbara         NaN  Lindenberg   \n",
      "927         16297        George Fells     George         NaN       Fells   \n",
      "...           ...                 ...        ...         ...         ...   \n",
      "11370       29996          Victoria G   Victoria         NaN           G   \n",
      "11371       29997            Noriko S     Noriko         NaN           S   \n",
      "11372       29998       Chrissy Brown    Chrissy         NaN       Brown   \n",
      "11373       29999       Chrissy Brown    Chrissy         NaN       Brown   \n",
      "11374       30000         Justin Rose     Justin         NaN        Rose   \n",
      "\n",
      "       Legal Name Primary Email Billing Email  \n",
      "35            NaN           NaN           NaN  \n",
      "630           NaN           NaN           NaN  \n",
      "795           NaN           NaN           NaN  \n",
      "920           NaN           NaN           NaN  \n",
      "927           NaN           NaN           NaN  \n",
      "...           ...           ...           ...  \n",
      "11370         NaN           NaN           NaN  \n",
      "11371         NaN           NaN           NaN  \n",
      "11372         NaN           NaN           NaN  \n",
      "11373         NaN           NaN           NaN  \n",
      "11374         NaN           NaN           NaN  \n",
      "\n",
      "[844 rows x 8 columns]\n"
     ]
    }
   ],
   "source": [
    "# apply boolean mask to original file to create dataframe of only the records with a blank dedupeField\n",
    "df_blankDedupeFieldRecords = df_withDupes[df_blankDedupeFieldRecordsMask]\n",
    "print(df_blankDedupeFieldRecords)"
   ]
  },
  {
   "cell_type": "code",
   "execution_count": 7,
   "id": "899de03f",
   "metadata": {},
   "outputs": [],
   "source": [
    "# write the above dataframe of records with a blank dedupeField to a csv\n",
    "df_blankDedupeFieldRecords.to_csv(file_blankRecords,index=False)"
   ]
  },
  {
   "cell_type": "code",
   "execution_count": 8,
   "id": "d2bb823d",
   "metadata": {
    "scrolled": true
   },
   "outputs": [
    {
     "name": "stdout",
     "output_type": "stream",
     "text": [
      "       Contact ID     Display Name First Name Middle Name  Last Name  \\\n",
      "0           15001    Sally Sparrow      Sally         NaN    Sparrow   \n",
      "1           15002  Christina Caleb  Christina         NaN      Caleb   \n",
      "2           15003     Duane Currie      Duane         NaN     Currie   \n",
      "3           15004   Andrzej Inglot    Andrzej         NaN     Inglot   \n",
      "4           15005   Rita Wuebbeler       Rita         NaN  Wuebbeler   \n",
      "...           ...              ...        ...         ...        ...   \n",
      "11332       29957   Ronny Restrepo      Ronny         NaN   Restrepo   \n",
      "11333       29958  Richard Michael    Richard         NaN    Michael   \n",
      "11334       29960       Luke Evans       Luke         NaN      Evans   \n",
      "11338       29964    Jesse Coleman      Jesse         NaN    Coleman   \n",
      "11362       29988    Anne  Sheperd      Anne          NaN    Sheperd   \n",
      "\n",
      "       Legal Name               Primary Email          Billing Email  \n",
      "0             NaN       sallysparrow@yahoo.ca  sallysparrow@yahoo.ca  \n",
      "1             NaN         tinacaleb@gmail.com    tinacaleb@gmail.com  \n",
      "2             NaN       currieduane@gmail.com  currieduane@gmail.com  \n",
      "3             NaN           atolgni@gmail.com      atolgni@gmail.com  \n",
      "4             NaN        rwuebbeler@gmail.com   rwuebbeler@gmail.com  \n",
      "...           ...                         ...                    ...  \n",
      "11332         NaN             ronnyrpo@me.com                    NaN  \n",
      "11333         NaN   rmichael@edgeofthenet.org                    NaN  \n",
      "11334         NaN       luke.evans@rpacan.com  luke.evans@rpacan.com  \n",
      "11338         NaN   jesse.coleman@utoronto.ca                    NaN  \n",
      "11362         NaN  marleysheperd@sympatico.ca                    NaN  \n",
      "\n",
      "[10418 rows x 8 columns]\n"
     ]
    }
   ],
   "source": [
    "# create a dataframe without dupes, by dedupeField, and keeping the keepRecord\n",
    "df_withoutDupes = df_withoutBlanks.drop_duplicates(subset=[dedupeField], keep=keepRecord)\n",
    "print(df_withoutDupes)"
   ]
  },
  {
   "cell_type": "code",
   "execution_count": 9,
   "id": "99ab21fa",
   "metadata": {},
   "outputs": [],
   "source": [
    "# write the unique records (duplicates removed) to a csv\n",
    "df_withoutDupes.to_csv(file_withoutDupes, index=False)"
   ]
  },
  {
   "cell_type": "code",
   "execution_count": 10,
   "id": "b1372c5a",
   "metadata": {},
   "outputs": [
    {
     "name": "stdout",
     "output_type": "stream",
     "text": [
      "0        False\n",
      "1        False\n",
      "2        False\n",
      "3        False\n",
      "4        False\n",
      "         ...  \n",
      "11332    False\n",
      "11333    False\n",
      "11334    False\n",
      "11338    False\n",
      "11362    False\n",
      "Length: 10531, dtype: bool\n"
     ]
    }
   ],
   "source": [
    "#create a boolean mask indicating which records are duplicate\n",
    "df_dupeRecordsMask = df_withoutBlanks.duplicated(subset=[dedupeField], keep=keepRecord)\n",
    "print(df_dupeRecordsMask)"
   ]
  },
  {
   "cell_type": "code",
   "execution_count": 11,
   "id": "a6243249",
   "metadata": {},
   "outputs": [
    {
     "name": "stdout",
     "output_type": "stream",
     "text": [
      "       Contact ID     Display Name First Name Middle Name  Last Name  \\\n",
      "66          15084     June Komisar       June       Diana    Komisar   \n",
      "68          15086        Joel Ross       Joel         NaN       Ross   \n",
      "312         15351       Jason Shim      Jason         NaN       Shim   \n",
      "318         15356    Richard Allen    Richard         NaN      Allen   \n",
      "332         15373      Luke Albert       Luke         NaN     Albert   \n",
      "...           ...              ...        ...         ...        ...   \n",
      "9671        28195   Mike Micalizzi       Mike         NaN  Micalizzi   \n",
      "10088       28647    Stephen Moore    Stephen         NaN      Moore   \n",
      "10090       28647    Stephen Moore    Stephen         NaN      Moore   \n",
      "10126       28685  Kieran Heilbron     Kieran         NaN   Heilbron   \n",
      "10219       28784    David McAleer      David         NaN    McAleer   \n",
      "\n",
      "       Legal Name               Primary Email               Billing Email  \n",
      "66            NaN         jkomisar@ryerson.ca                         NaN  \n",
      "68            NaN           joel_ross@mac.com           joel_ross@mac.com  \n",
      "312           NaN         jason@jasonshim.net         jason@jasonshim.net  \n",
      "318           NaN          grallenca@yahoo.ca          grallenca@yahoo.ca  \n",
      "332           NaN      contact@lukealbert.com      contact@lukealbert.com  \n",
      "...           ...                         ...                         ...  \n",
      "9671          NaN       micalizzi2k@gmail.com       micalizzi2k@gmail.com  \n",
      "10088         NaN      equinoxgarden@yahoo.ca     middlemoore@hotmail.com  \n",
      "10090         NaN     middlemoore@hotmail.com     middlemoore@hotmail.com  \n",
      "10126         NaN  thesnakepictures@gmail.com  thesnakepictures@gmail.com  \n",
      "10219         NaN   david.mcaleer@hotmail.com   david.mcaleer@hotmail.com  \n",
      "\n",
      "[113 rows x 8 columns]\n"
     ]
    }
   ],
   "source": [
    "#apply boolean mask to original file to create dataframe of only the duplicate records (not including the \"kept\" record)\n",
    "df_dupeRecords = df_withoutBlanks[df_dupeRecordsMask]\n",
    "print(df_dupeRecords)"
   ]
  },
  {
   "cell_type": "code",
   "execution_count": 12,
   "id": "bfff60d6",
   "metadata": {},
   "outputs": [],
   "source": [
    "# write the above dataframe of duplicate records to a csv\n",
    "df_dupeRecords.to_csv(file_dupeRecords,index=False)"
   ]
  },
  {
   "cell_type": "code",
   "execution_count": null,
   "id": "a5b71be5",
   "metadata": {},
   "outputs": [],
   "source": []
  }
 ],
 "metadata": {
  "kernelspec": {
   "display_name": "Python 3.10.8 (tensorflow)",
   "language": "python",
   "name": "tensorflow"
  },
  "language_info": {
   "codemirror_mode": {
    "name": "ipython",
    "version": 3
   },
   "file_extension": ".py",
   "mimetype": "text/x-python",
   "name": "python",
   "nbconvert_exporter": "python",
   "pygments_lexer": "ipython3",
   "version": "3.10.8"
  }
 },
 "nbformat": 4,
 "nbformat_minor": 5
}
