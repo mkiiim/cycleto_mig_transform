{
 "cells": [
  {
   "cell_type": "markdown",
   "id": "04fd7f17",
   "metadata": {},
   "source": [
    "# Dedupe Contacts\n",
    "\n",
    "## Problem\n",
    "\n",
    "Contacts need to be uploaded into NB\n",
    "\n",
    "The data extract from CiviCRM is producing duplicate Contacts records on `Primary Email` field. Further, these duplicate records are recorded as having unique Contact ID's. Also, there are secondary Email fields that can be the same as the same record's `Primary Email`, or even *another record's* `Primary Email`\n",
    "\n",
    "We can't have contacts with same email in NB so we need to clean these up to ensure that all unique contacts also have unique primary emails\n",
    "\n",
    "## Solution\n",
    "\n",
    "*TBC*\n",
    "\n",
    "Primary Email field will define the 'uniqueness' of a contact. Because these have a potential one to many relationship with Contact ID's we need to decide which Contact ID to 'keep'. Which Contact ID to keep will also have an impact to other relationships in the database e.g., Members, Member relationships, Contributions ...\n",
    "\n",
    "Currently, the user is simply prompted to keep the first or last record in a set with the same Primary Email field. the associated record and its Contact ID is then kept. The rest (which have the same Primary Email but different Contact ID) are written to a separate file for safe keeping - and potentially future followup. \n",
    "\n",
    "\n",
    "## Order of Ops\n",
    "\n",
    "#### 1. Identify ALL records duplicated on [Contact ID] but do not remove :  \n",
    "- generate an output file of these records`file_dupeContactIDRecords` - investigate why and what to do with them and for safe keeping\n",
    "\n",
    "#### 2. Remove all records that have blank [Primary Email] fields\n",
    "- generate an output file of these records `file_blankRecords` - for safe keeping\n",
    "\n",
    "#### 3. Remove records that have the same `dedupeField`, keeping only the first (or as defined by user)\n",
    "- generate an output file of the discarded records `file_dupeRecords` - for safe keeping and potential future followup\n",
    "- generate an output file of the remaining records `file_withoutDupes` - this is the file that gets loaded into NB\n"
   ]
  },
  {
   "cell_type": "code",
   "execution_count": null,
   "id": "53e8ee29",
   "metadata": {},
   "outputs": [],
   "source": [
    "import pandas as pd\n",
    "from pathlib import Path\n",
    "\n",
    "# file_withDupes - filename of original file \n",
    "# file_withoutDupes - filename of file with (blanks and) duplicates removed\n",
    "# file_blankRecords - filename of file with records where dedupeField is blank\n",
    "# file_dupeRecords - filename of file with records where dedupefield is not blank and is a duplicate of an existing\n",
    "# file_dupeContactIDRecords - filename of file with all records where ContactID is identical\n",
    "# df_withDupes - data frame of original file\n",
    "# df_withoutDupes - data frame with duplicates removed\n",
    "# df_dupeRecordsMask - data frame of boolean mask indicating which rows are duplicate \n",
    "# df_dupeRecords - data frame of records identified as the duplicates\n"
   ]
  },
  {
   "cell_type": "code",
   "execution_count": null,
   "id": "3279974e",
   "metadata": {},
   "outputs": [],
   "source": [
    "# get/set parameters here\n",
    "\n",
    "# get the name of the original file OR default to: ./testdata/KR_Contacts_Names_Emails_00000_80000.csv\n",
    "file_withDupesInput = input(f\"\\nEnter filename - no value will default to `KR_Contacts_Names_Emails_00000_80000.csv`\\n\")\n",
    "if file_withDupesInput == \"\":\n",
    "    file_withDupes = Path(\n",
    "        \"./01.DataExtract/KR_Contacts_Names_Emails_00000_80000.csv\")\n",
    "    print(\"./01.DataExtract/KR_Contacts_Names_Emails_00000_80000.csv\")\n",
    "else:\n",
    "    file_withDupes = Path(file_withDupesInput)\n",
    "    \n",
    "# get the name of the column to check for duplicates\n",
    "dedupeField = input(f\"\\nEnter name of column to check for duplicates - no value will default to `Primary Email`\\n\")\n",
    "if dedupeField == \"\":\n",
    "    dedupeField = \"Primary Email\"\n",
    "    print(dedupeField)\n",
    "    \n",
    "# get whether to keep first or last record as the master\n",
    "keepRecord = input(f\"\\nEnter record to keep. Valid values are 'first' or 'last'\\n\")\n",
    "if keepRecord == \"\":\n",
    "    keepRecord = \"first\" \n",
    "    print(keepRecord)"
   ]
  },
  {
   "cell_type": "code",
   "execution_count": null,
   "id": "2e27aafe",
   "metadata": {},
   "outputs": [],
   "source": [
    "# This section defines the output filenames\n",
    "\n",
    "# file of ALL duplicate ContactID records will be named:\n",
    "# [file_withDupes]_deduped_on[DupeField]_keep[keepRecord]_dupeContactIDRecords.csv\n",
    "file_dupeContactIDRecords = (\n",
    "    file_withDupes.stem +\n",
    "    '_deduped_on' + dedupeField.title().replace(\" \", \"\") +\n",
    "    '_keep' + keepRecord.capitalize() +\n",
    "    '_dupeContactIDRecords' +\n",
    "    '.csv')\n",
    "\n",
    "# file of records with blank dedupeField will be named:\n",
    "# [file_withDupes]_deduped_on[DupeField]_keep[keepRecord]_blankRecords.csv\n",
    "file_blankRecords = (\n",
    "    file_withDupes.stem + \n",
    "    '_deduped_on' + dedupeField.title().replace(\" \", \"\") +\n",
    "    '_keep' + keepRecord.capitalize() +\n",
    "    '_blankRecords' +\n",
    "    '.csv')\n",
    "\n",
    "# file of duplicate records will be named:\n",
    "# [file_withDupes]_deduped_on[DupeField]_keep[keepRecord]_dupeRecords.csv\n",
    "file_dupeRecords = (\n",
    "    file_withDupes.stem +\n",
    "    '_deduped_on' + dedupeField.title().replace(\" \", \"\") +\n",
    "    '_keep' + keepRecord.capitalize() +\n",
    "    '_dupeRecords' +\n",
    "    '.csv')\n",
    "\n",
    "# file without dupes will be named:\n",
    "# [file_withDupes]_deduped_on[DupeField]_keep[keepRecord].csv\n",
    "file_withoutDupes = (\n",
    "    file_withDupes.stem +\n",
    "    '_deduped_on' + dedupeField.title().replace(\" \", \"\") +\n",
    "    '_keep' + keepRecord.capitalize() +\n",
    "    '.csv')\n",
    "\n",
    "print(f\"\\n{file_withDupes} --> extract of only duplicate 'Contact ID' records \\n= {file_dupeContactIDRecords}\")\n",
    "print(f\"\\n{file_withDupes} --> extract of records with blank '{dedupeField}' \\n= {file_blankRecords}\")\n",
    "print(f\"\\n{file_withDupes} \\n- {file_blankRecords} \\n= {file_withoutDupes}\")\n",
    "print(f\"\\n{file_withDupes} \\n- {file_blankRecords} \\n- {file_withoutDupes} \\n= {file_dupeRecords}\")\n"
   ]
  },
  {
   "cell_type": "code",
   "execution_count": null,
   "id": "25eb7358",
   "metadata": {
    "scrolled": true
   },
   "outputs": [],
   "source": [
    "# read the original file into a dataframe df_withDupes\n",
    "df_withDupes = pd.read_csv(file_withDupes)\n",
    "print(df_withDupes.head())"
   ]
  },
  {
   "cell_type": "markdown",
   "id": "cf9c8afa",
   "metadata": {},
   "source": [
    "Lets find unique records by `Contact ID`"
   ]
  },
  {
   "cell_type": "code",
   "execution_count": null,
   "id": "58eabde4",
   "metadata": {},
   "outputs": [],
   "source": [
    "# create a dataframe with records where duplicate 'Contact ID' are removed, keeping only the first\n",
    "df_withoutDupeContactID = df_withDupes.drop_duplicates(subset=['Contact ID'], keep='first')\n",
    "print(df_withoutDupeContactID.head())"
   ]
  },
  {
   "cell_type": "markdown",
   "id": "4c343bad",
   "metadata": {},
   "source": [
    "Lets find all records duplicated on `Contact ID` and write to a file"
   ]
  },
  {
   "cell_type": "code",
   "execution_count": null,
   "id": "6966b3c3",
   "metadata": {},
   "outputs": [],
   "source": [
    "#create a boolean mask indicating which records have a duplicate 'Contact ID' field\n",
    "mask_withoutDupeContactID = df_withDupes.duplicated(subset=['Contact ID'], keep=False)\n",
    "print(mask_withoutDupeContactID)"
   ]
  },
  {
   "cell_type": "code",
   "execution_count": null,
   "id": "c466dd48",
   "metadata": {
    "scrolled": true
   },
   "outputs": [],
   "source": [
    "#apply boolean mask to original file to create dataframe of all the duplicate records on 'Contact ID' field\n",
    "df_dupeContactIDRecords = df_withDupes[mask_withoutDupeContactID]\n",
    "print(df_dupeContactIDRecords.head())"
   ]
  },
  {
   "cell_type": "code",
   "execution_count": null,
   "id": "6a2b4e73",
   "metadata": {},
   "outputs": [],
   "source": [
    "# write the above dataframe of records with a blank dedupeField to a csv\n",
    "df_dupeContactIDRecords.to_csv(file_dupeContactIDRecords,index=False)"
   ]
  },
  {
   "cell_type": "markdown",
   "id": "a7e49d5e",
   "metadata": {},
   "source": [
    "NOTE: At this point we have not yet removed any records from the original file"
   ]
  },
  {
   "cell_type": "code",
   "execution_count": null,
   "id": "8f3c90d2",
   "metadata": {},
   "outputs": [],
   "source": [
    "# create a dataframe with records where dedupeField is not blank/NaN since these will all be considered \"duplicates\"\n",
    "df_withoutBlanks = df_withDupes.dropna(subset=[dedupeField])\n",
    "print(df_withoutBlanks.head())"
   ]
  },
  {
   "cell_type": "code",
   "execution_count": null,
   "id": "f8d8517c",
   "metadata": {},
   "outputs": [],
   "source": [
    "#create a boolean mask indicating which records have a blank dedupeField\n",
    "mask_blankDedupeFieldRecords = df_withDupes[dedupeField].isna()\n",
    "print(mask_blankDedupeFieldRecords.head())"
   ]
  },
  {
   "cell_type": "code",
   "execution_count": null,
   "id": "3112fb93",
   "metadata": {},
   "outputs": [],
   "source": [
    "# apply boolean mask to original file to create dataframe of only the records with a blank dedupeField\n",
    "df_blankDedupeFieldRecords = df_withDupes[mask_blankDedupeFieldRecords]\n",
    "print(df_blankDedupeFieldRecords.head())"
   ]
  },
  {
   "cell_type": "code",
   "execution_count": null,
   "id": "899de03f",
   "metadata": {},
   "outputs": [],
   "source": [
    "# write the above dataframe of records with a blank dedupeField to a csv\n",
    "df_blankDedupeFieldRecords.to_csv(file_blankRecords,index=False)"
   ]
  },
  {
   "cell_type": "code",
   "execution_count": null,
   "id": "b1372c5a",
   "metadata": {},
   "outputs": [],
   "source": [
    "#create a boolean mask indicating which records are duplicate\n",
    "mask_dupeRecords = df_withoutBlanks.duplicated(subset=[dedupeField], keep=keepRecord)\n",
    "print(mask_dupeRecords.head())"
   ]
  },
  {
   "cell_type": "code",
   "execution_count": null,
   "id": "a6243249",
   "metadata": {},
   "outputs": [],
   "source": [
    "#apply boolean mask to original file to create dataframe of only the duplicate records (not including the \"kept\" record)\n",
    "df_dupeRecords = df_withoutBlanks[mask_dupeRecords]\n",
    "print(df_dupeRecords.head())"
   ]
  },
  {
   "cell_type": "code",
   "execution_count": null,
   "id": "bfff60d6",
   "metadata": {},
   "outputs": [],
   "source": [
    "# write the above dataframe of duplicate records to a csv\n",
    "df_dupeRecords.to_csv(file_dupeRecords,index=False)"
   ]
  },
  {
   "cell_type": "code",
   "execution_count": null,
   "id": "d2bb823d",
   "metadata": {
    "scrolled": true
   },
   "outputs": [],
   "source": [
    "# create a dataframe without dupes, by dedupeField, and keeping the keepRecord\n",
    "df_withoutDupes = df_withoutBlanks.drop_duplicates(subset=[dedupeField], keep=keepRecord)\n",
    "print(df_withoutDupes.head())"
   ]
  },
  {
   "cell_type": "code",
   "execution_count": null,
   "id": "99ab21fa",
   "metadata": {},
   "outputs": [],
   "source": [
    "# write the unique records (duplicates removed) to a csv\n",
    "df_withoutDupes.to_csv(file_withoutDupes, index=False)"
   ]
  }
 ],
 "metadata": {
  "kernelspec": {
   "display_name": "Python 3.10.8 (tensorflow)",
   "language": "python",
   "name": "tensorflow"
  },
  "language_info": {
   "codemirror_mode": {
    "name": "ipython",
    "version": 3
   },
   "file_extension": ".py",
   "mimetype": "text/x-python",
   "name": "python",
   "nbconvert_exporter": "python",
   "pygments_lexer": "ipython3",
   "version": "3.10.8"
  }
 },
 "nbformat": 4,
 "nbformat_minor": 5
}
